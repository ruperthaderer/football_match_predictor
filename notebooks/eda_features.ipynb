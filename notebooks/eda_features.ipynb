{
 "cells": [
  {
   "metadata": {},
   "cell_type": "markdown",
   "source": [
    "# Explorative Datenanalyse (EDA),\n",
    "Dieses Notebook gibt einen ersten Überblick über die erzeugten Features (features_lagged.csv)."
   ],
   "id": "f06e97e23122a2fe"
  },
  {
   "metadata": {
    "ExecuteTime": {
     "end_time": "2025-08-29T19:45:55.467890Z",
     "start_time": "2025-08-29T19:45:55.465986Z"
    }
   },
   "cell_type": "code",
   "source": [
    "import pandas as pd\n",
    "import matplotlib.pyplot as plt\n",
    "import seaborn as sns\n",
    "from pathlib import Path"
   ],
   "id": "fdcb283855aa6aff",
   "outputs": [],
   "execution_count": 1
  },
  {
   "metadata": {
    "ExecuteTime": {
     "end_time": "2025-08-29T19:45:55.734029Z",
     "start_time": "2025-08-29T19:45:55.481743Z"
    }
   },
   "cell_type": "code",
   "source": [
    "DATA_PROCESSED = Path(\"../data/processed\")\n",
    "INPUT = DATA_PROCESSED / \"features_lagged.csv\"\n",
    "print(f\"Lade {INPUT} ...\")\n",
    "df = pd.read_csv(INPUT, low_memory=False)"
   ],
   "id": "a88129c466b48aa",
   "outputs": [
    {
     "name": "stdout",
     "output_type": "stream",
     "text": [
      "📂 Lade data\\processed\\features_lagged.csv ...\n"
     ]
    }
   ],
   "execution_count": 2
  },
  {
   "metadata": {
    "ExecuteTime": {
     "end_time": "2025-08-29T19:45:55.968467Z",
     "start_time": "2025-08-29T19:45:55.966182Z"
    }
   },
   "cell_type": "code",
   "source": [
    "print(\"\\n== Shape ==\")\n",
    "print(df.shape)"
   ],
   "id": "519b57ca7227534e",
   "outputs": [
    {
     "name": "stdout",
     "output_type": "stream",
     "text": [
      "\n",
      "== Shape ==\n",
      "(43708, 91)\n"
     ]
    }
   ],
   "execution_count": 3
  },
  {
   "metadata": {
    "ExecuteTime": {
     "end_time": "2025-08-29T19:45:55.980091Z",
     "start_time": "2025-08-29T19:45:55.975042Z"
    }
   },
   "cell_type": "code",
   "source": [
    "print(\"\\n== Erste 5 Zeilen ==\")\n",
    "print(df.head())"
   ],
   "id": "7f56f90aef992fa4",
   "outputs": [
    {
     "name": "stdout",
     "output_type": "stream",
     "text": [
      "\n",
      "== Erste 5 Zeilen ==\n",
      "   match_date match_time_sort Division   HomeTeam    AwayTeam  FTHome  FTAway  \\\n",
      "0  2000-07-28        00:00:00       F1  Marseille      Troyes       3       1   \n",
      "1  2000-07-28        00:00:00       F1   Paris SG  Strasbourg       3       1   \n",
      "2  2000-07-29        00:00:00       F1    Auxerre       Sedan       0       1   \n",
      "3  2000-07-29        00:00:00       F1   Bordeaux        Metz       1       1   \n",
      "4  2000-07-29        00:00:00       F1   Guingamp  St Etienne       2       2   \n",
      "\n",
      "   HomeElo  AwayElo Division_1  ... away_gf_last3 away_ga_last3  \\\n",
      "0  1686.34  1586.57         F1  ...           NaN           NaN   \n",
      "1  1714.89  1642.51         F1  ...           NaN           NaN   \n",
      "2  1635.58  1624.22         F1  ...           NaN           NaN   \n",
      "3  1734.34  1673.11         F1  ...           NaN           NaN   \n",
      "4  1578.51  1620.74         F1  ...           NaN           NaN   \n",
      "\n",
      "  away_pts_last3 away_elo_trend3 away_gf_last5  away_ga_last5  away_pts_last5  \\\n",
      "0            NaN             NaN           NaN            NaN             NaN   \n",
      "1            NaN             NaN           NaN            NaN             NaN   \n",
      "2            NaN             NaN           NaN            NaN             NaN   \n",
      "3            NaN             NaN           NaN            NaN             NaN   \n",
      "4            NaN             NaN           NaN            NaN             NaN   \n",
      "\n",
      "  away_elo_trend5  away_rest_days  away_form_momentum  \n",
      "0             NaN             NaN                 NaN  \n",
      "1             NaN             NaN                 NaN  \n",
      "2             NaN             NaN                 NaN  \n",
      "3             NaN             NaN                 NaN  \n",
      "4             NaN             NaN                 NaN  \n",
      "\n",
      "[5 rows x 91 columns]\n"
     ]
    }
   ],
   "execution_count": 4
  },
  {
   "metadata": {
    "ExecuteTime": {
     "end_time": "2025-08-29T19:45:55.989155Z",
     "start_time": "2025-08-29T19:45:55.986931Z"
    }
   },
   "cell_type": "code",
   "source": [
    "print(\"\\n== Spaltenübersicht ==\")\n",
    "print(df.columns.tolist())"
   ],
   "id": "fd9eb54aec0d6e9e",
   "outputs": [
    {
     "name": "stdout",
     "output_type": "stream",
     "text": [
      "\n",
      "== Spaltenübersicht ==\n",
      "['match_date', 'match_time_sort', 'Division', 'HomeTeam', 'AwayTeam', 'FTHome', 'FTAway', 'HomeElo', 'AwayElo', 'Division_1', 'MatchDate', 'MatchTime', 'HomeTeam_1', 'AwayTeam_1', 'cfmd_match_id', 'FTHome_1', 'FTAway_1', 'y_outcome', 'y_home_win', 'HTHome', 'HTAway', 'HTResult', 'HomeElo_1', 'AwayElo_1', 'elo_diff', 'elo_ratio', 'Form3Home', 'Form3Away', 'form3_diff', 'Form5Home', 'Form5Away', 'form5_diff', 'OddHome', 'OddDraw', 'OddAway', 'qh', 'qd', 'qa', 'qsum', 'p_home', 'p_draw', 'p_away', 'overround', 'MaxHome', 'MaxDraw', 'MaxAway', 'log_odds_away_vs_home', 'HomeShots', 'AwayShots', 'shots_diff', 'HomeTarget', 'AwayTarget', 'shots_on_target_diff', 'shot_acc_home', 'shot_acc_away', 'shot_acc_diff', 'HomeFouls', 'AwayFouls', 'fouls_diff', 'HomeYellow', 'AwayYellow', 'yellow_diff', 'HomeRed', 'AwayRed', 'red_diff', 'HomeCorners', 'AwayCorners', 'corners_diff', 'dominance_index', 'form_momentum_home', 'form_momentum_away', 'home_gf_last3', 'home_ga_last3', 'home_pts_last3', 'home_elo_trend3', 'home_gf_last5', 'home_ga_last5', 'home_pts_last5', 'home_elo_trend5', 'home_rest_days', 'home_form_momentum', 'away_gf_last3', 'away_ga_last3', 'away_pts_last3', 'away_elo_trend3', 'away_gf_last5', 'away_ga_last5', 'away_pts_last5', 'away_elo_trend5', 'away_rest_days', 'away_form_momentum']\n"
     ]
    }
   ],
   "execution_count": 5
  },
  {
   "metadata": {
    "ExecuteTime": {
     "end_time": "2025-08-29T19:45:56.031247Z",
     "start_time": "2025-08-29T19:45:56.025774Z"
    }
   },
   "cell_type": "code",
   "source": [
    "print(\"\\n== Dtypes ==\")\n",
    "print(df.dtypes.value_counts())"
   ],
   "id": "6853dbae8a024e5e",
   "outputs": [
    {
     "name": "stdout",
     "output_type": "stream",
     "text": [
      "\n",
      "== Dtypes ==\n",
      "float64    73\n",
      "object     13\n",
      "int64       5\n",
      "Name: count, dtype: int64\n"
     ]
    }
   ],
   "execution_count": 6
  },
  {
   "metadata": {
    "ExecuteTime": {
     "end_time": "2025-08-29T19:45:56.056258Z",
     "start_time": "2025-08-29T19:45:56.037681Z"
    }
   },
   "cell_type": "code",
   "source": [
    "print(\"\\n== Missing Values (Top 20) ==\")\n",
    "print(df.isna().sum().sort_values(ascending=False).head(20))"
   ],
   "id": "7568b7b5b93ee54f",
   "outputs": [
    {
     "name": "stdout",
     "output_type": "stream",
     "text": [
      "\n",
      "== Missing Values (Top 20) ==\n",
      "MatchTime                33002\n",
      "MaxAway                   7820\n",
      "log_odds_away_vs_home     7820\n",
      "MaxHome                   7820\n",
      "MaxDraw                   7820\n",
      "shot_acc_diff             5745\n",
      "shot_acc_away             5742\n",
      "shot_acc_home             5722\n",
      "HomeTarget                5719\n",
      "AwayTarget                5719\n",
      "shots_on_target_diff      5719\n",
      "AwayFouls                 5670\n",
      "HomeFouls                 5670\n",
      "fouls_diff                5670\n",
      "dominance_index           5292\n",
      "corners_diff              5288\n",
      "HomeCorners               5288\n",
      "AwayCorners               5288\n",
      "AwayShots                 4913\n",
      "HomeShots                 4913\n",
      "dtype: int64\n"
     ]
    }
   ],
   "execution_count": 7
  },
  {
   "metadata": {
    "ExecuteTime": {
     "end_time": "2025-08-29T19:45:56.172168Z",
     "start_time": "2025-08-29T19:45:56.062631Z"
    }
   },
   "cell_type": "code",
   "source": [
    "print(\"\\n== Deskriptive Statistik (numerische Spalten) ==\")\n",
    "print(df.describe().T.head(20))"
   ],
   "id": "9342918a4d14e83e",
   "outputs": [
    {
     "name": "stdout",
     "output_type": "stream",
     "text": [
      "\n",
      "== Deskriptive Statistik (numerische Spalten) ==\n",
      "              count         mean         std          min          25%  \\\n",
      "FTHome      43708.0     1.532237    1.285618     0.000000     1.000000   \n",
      "FTAway      43708.0     1.162144    1.132431     0.000000     0.000000   \n",
      "HomeElo     43688.0  1692.520277  111.585112  1408.410000  1613.977500   \n",
      "AwayElo     43688.0  1692.470585  111.611077  1406.620000  1613.947500   \n",
      "FTHome_1    43708.0     1.532237    1.285618     0.000000     1.000000   \n",
      "FTAway_1    43708.0     1.162144    1.132431     0.000000     0.000000   \n",
      "y_home_win  43708.0     0.456461    0.498106     0.000000     0.000000   \n",
      "HTHome      43705.0     0.681570    0.829941     0.000000     0.000000   \n",
      "HTAway      43705.0     0.508226    0.720145     0.000000     0.000000   \n",
      "HomeElo_1   43688.0  1692.520277  111.585112  1408.410000  1613.977500   \n",
      "AwayElo_1   43688.0  1692.470585  111.611077  1406.620000  1613.947500   \n",
      "elo_diff    43668.0     0.050119  145.145524  -562.720000   -87.892500   \n",
      "elo_ratio   43668.0     0.500008    0.020929     0.417523     0.486872   \n",
      "Form3Home   43708.0     3.978494    2.396821     0.000000     2.000000   \n",
      "Form3Away   43708.0     4.283998    2.415022     0.000000     3.000000   \n",
      "form3_diff  43708.0    -0.305505    3.353003    -9.000000    -3.000000   \n",
      "Form5Home   43708.0     6.767800    3.316512     0.000000     4.000000   \n",
      "Form5Away   43708.0     7.043997    3.316726     0.000000     5.000000   \n",
      "form5_diff  43708.0    -0.276197    4.633846   -15.000000    -3.000000   \n",
      "OddHome     43254.0     2.581723    1.702736     1.020000     1.670000   \n",
      "\n",
      "                    50%          75%          max  \n",
      "FTHome         1.000000     2.000000    10.000000  \n",
      "FTAway         1.000000     2.000000     9.000000  \n",
      "HomeElo     1677.230000  1753.372500  2107.480000  \n",
      "AwayElo     1677.200000  1753.562500  2107.480000  \n",
      "FTHome_1       1.000000     2.000000    10.000000  \n",
      "FTAway_1       1.000000     2.000000     9.000000  \n",
      "y_home_win     0.000000     1.000000     1.000000  \n",
      "HTHome         0.000000     1.000000     6.000000  \n",
      "HTAway         0.000000     1.000000     6.000000  \n",
      "HomeElo_1   1677.230000  1753.372500  2107.480000  \n",
      "AwayElo_1   1677.200000  1753.562500  2107.480000  \n",
      "elo_diff      -0.225000    88.265000   534.180000  \n",
      "elo_ratio      0.499967     0.513175     0.576074  \n",
      "Form3Home      4.000000     6.000000     9.000000  \n",
      "Form3Away      4.000000     6.000000     9.000000  \n",
      "form3_diff     0.000000     2.000000     9.000000  \n",
      "Form5Home      7.000000     9.000000    15.000000  \n",
      "Form5Away      7.000000     9.000000    15.000000  \n",
      "form5_diff     0.000000     3.000000    15.000000  \n",
      "OddHome        2.100000     2.750000    26.000000  \n"
     ]
    }
   ],
   "execution_count": 8
  },
  {
   "metadata": {
    "ExecuteTime": {
     "end_time": "2025-08-29T19:45:56.815409Z",
     "start_time": "2025-08-29T19:45:56.178475Z"
    }
   },
   "cell_type": "code",
   "source": [
    "# --- Korrelationen ---\n",
    "num_cols = df.select_dtypes(include=[\"int64\", \"float64\"]).columns\n",
    "corr = df[num_cols].corr()\n",
    "\n",
    "plt.figure(figsize=(12, 8))\n",
    "sns.heatmap(corr, cmap=\"coolwarm\", center=0, cbar=True)\n",
    "plt.title(\"Korrelationsmatrix (numerische Features)\")\n",
    "plt.tight_layout()\n",
    "plt.savefig(DATA_PROCESSED / \"corr_matrix.png\")\n",
    "plt.close()\n",
    "\n",
    "print(f\"\\nKorrelationen geplottet -> {DATA_PROCESSED/'corr_matrix.png'}\")"
   ],
   "id": "f6adea572406f6a",
   "outputs": [
    {
     "name": "stdout",
     "output_type": "stream",
     "text": [
      "\n",
      "✅ Korrelationen geplottet -> data\\processed\\corr_matrix.png\n"
     ]
    }
   ],
   "execution_count": 9
  },
  {
   "metadata": {
    "ExecuteTime": {
     "end_time": "2025-08-29T19:45:56.827265Z",
     "start_time": "2025-08-29T19:45:56.824547Z"
    }
   },
   "cell_type": "code",
   "source": [
    "# --- Plausibilitäts-Checks ---\n",
    "print(\"\\n== Plausibilitäts-Checks ==\")\n",
    "print(\"Anzahl Tore im Match vs. Summe Heim+Auswärts:\")\n",
    "print(df[[\"FTHome\", \"FTAway\"]].sum().to_dict())"
   ],
   "id": "bc014ea72c16c387",
   "outputs": [
    {
     "name": "stdout",
     "output_type": "stream",
     "text": [
      "\n",
      "== Plausibilitäts-Checks ==\n",
      "⚽ Anzahl Tore im Match vs. Summe Heim+Auswärts:\n",
      "{'FTHome': 66971, 'FTAway': 50795}\n"
     ]
    }
   ],
   "execution_count": 10
  },
  {
   "metadata": {
    "ExecuteTime": {
     "end_time": "2025-08-29T19:45:56.839410Z",
     "start_time": "2025-08-29T19:45:56.835539Z"
    }
   },
   "cell_type": "code",
   "source": [
    "if \"home_pts_last3\" in df.columns:\n",
    "    print(\"\\nVerteilung home_pts_last3:\")\n",
    "    print(df[\"home_pts_last3\"].value_counts().sort_index())"
   ],
   "id": "c03e7580094d0f59",
   "outputs": [
    {
     "name": "stdout",
     "output_type": "stream",
     "text": [
      "\n",
      "📊 Verteilung home_pts_last3:\n",
      "home_pts_last3\n",
      "0.0    3010\n",
      "1.0    5532\n",
      "2.0    3377\n",
      "3.0    7359\n",
      "4.0    8652\n",
      "5.0    3071\n",
      "6.0    5521\n",
      "7.0    4407\n",
      "9.0    2681\n",
      "Name: count, dtype: int64\n"
     ]
    }
   ],
   "execution_count": 11
  }
 ],
 "metadata": {
  "kernelspec": {
   "display_name": "Python 3",
   "language": "python",
   "name": "python3"
  },
  "language_info": {
   "codemirror_mode": {
    "name": "ipython",
    "version": 2
   },
   "file_extension": ".py",
   "mimetype": "text/x-python",
   "name": "python",
   "nbconvert_exporter": "python",
   "pygments_lexer": "ipython2",
   "version": "2.7.6"
  }
 },
 "nbformat": 4,
 "nbformat_minor": 5
}
